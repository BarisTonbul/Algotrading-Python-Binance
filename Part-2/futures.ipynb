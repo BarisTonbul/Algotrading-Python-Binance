{
 "cells": [
  {
   "cell_type": "markdown",
   "metadata": {},
   "source": [
    "## Linkler ↓↓↓"
   ]
  },
  {
   "cell_type": "markdown",
   "metadata": {},
   "source": [
    "-https://python-binance.readthedocs.io/en/latest/"
   ]
  },
  {
   "cell_type": "markdown",
   "metadata": {},
   "source": [
    "-https://readthedocs.org/projects/python-binance/downloads/pdf/stable/"
   ]
  },
  {
   "cell_type": "markdown",
   "metadata": {},
   "source": [
    "##  İmportlar"
   ]
  },
  {
   "cell_type": "code",
   "execution_count": 1,
   "metadata": {},
   "outputs": [],
   "source": [
    "from binance.client import Client\n",
    "import config\n",
    "import time"
   ]
  },
  {
   "cell_type": "markdown",
   "metadata": {},
   "source": [
    "## Client tanımlama"
   ]
  },
  {
   "cell_type": "code",
   "execution_count": 2,
   "metadata": {},
   "outputs": [],
   "source": [
    "client = Client(config.API_KEY, config.API_SECRET)"
   ]
  },
  {
   "cell_type": "markdown",
   "metadata": {},
   "source": [
    "## Basamak sayısını elde etme"
   ]
  },
  {
   "cell_type": "code",
   "execution_count": 3,
   "metadata": {},
   "outputs": [
    {
     "data": {
      "text/plain": [
       "3"
      ]
     },
     "execution_count": 3,
     "metadata": {},
     "output_type": "execute_result"
    }
   ],
   "source": [
    "def getPrecision(Ticker):\n",
    "    while(True):\n",
    "        try:\n",
    "            info = client.futures_exchange_info()\n",
    "            requestedFutures = [Ticker]\n",
    "            ListOfPrecisions = {si['symbol']:si['quantityPrecision'] for si in info['symbols'] if si['symbol'] in requestedFutures}\n",
    "            return ListOfPrecisions.get(Ticker)\n",
    "        except Exception as e :\n",
    "            print(f\"{Ticker} getPrecision couldnt get\")\n",
    "            time.sleep(1)\n",
    "getPrecision(\"BTCUSDT\")"
   ]
  },
  {
   "cell_type": "markdown",
   "metadata": {},
   "source": [
    "## Kaldıraç Değeri Değiştirme"
   ]
  },
  {
   "cell_type": "code",
   "execution_count": null,
   "metadata": {},
   "outputs": [],
   "source": [
    "def ChangeLeverage(Symbol,Leverage):\n",
    "    x = 0\n",
    "    while(x < 5):\n",
    "        try:\n",
    "            client.futures_change_leverage(symbol=Symbol,leverage=Leverage,maxNotionalValue=\"1000000\")\n",
    "            break\n",
    "        except Exception as e:\n",
    "            print(f\"{Symbol} change levereage error ! {e}\")\n",
    "            time.sleep(1)\n",
    "            x = x + 1\n",
    "\n",
    "ChangeLeverage(\"BTCUSDT\",125)"
   ]
  },
  {
   "cell_type": "markdown",
   "metadata": {},
   "source": [
    "## Marjin tipini değiştirme"
   ]
  },
  {
   "cell_type": "code",
   "execution_count": null,
   "metadata": {},
   "outputs": [],
   "source": [
    "def changeMarginType(Symbol,stringMargin):\n",
    "    x = 0\n",
    "    while(x < 5):\n",
    "        try:\n",
    "            client.futures_change_margin_type(symbol=Symbol,marginType=stringMargin)\n",
    "            break\n",
    "        except Exception as e : \n",
    "            print(f\"{Symbol} marginType error ! {e}\")\n",
    "            time.sleep(1)\n",
    "            x = x + 1\n",
    "\n",
    "changeMarginType(\"BTCUSDT\",\"ISOLATED\")"
   ]
  },
  {
   "cell_type": "markdown",
   "metadata": {},
   "source": [
    "## Anlık Fiyat"
   ]
  },
  {
   "cell_type": "code",
   "execution_count": 4,
   "metadata": {},
   "outputs": [
    {
     "name": "stdout",
     "output_type": "stream",
     "text": [
      "38922.0\n"
     ]
    }
   ],
   "source": [
    "def getCurrentPrice(Symbol):\n",
    "    while(True):\n",
    "        try:\n",
    "            price = client.futures_symbol_ticker(symbol=Symbol)\n",
    "            price = float(price.get(\"price\"))\n",
    "            return price\n",
    "        except Exception as e :\n",
    "            print(f\"{Symbol} currentPrice couldnt get ! {e}\")\n",
    "            time.sleep(1)\n",
    "\n",
    "print(getCurrentPrice(\"BTCUSDT\"))"
   ]
  },
  {
   "cell_type": "markdown",
   "metadata": {},
   "source": [
    "## Vadeli Emirler"
   ]
  },
  {
   "cell_type": "markdown",
   "metadata": {},
   "source": [
    "### Uzun market tipi pozisyon açmak"
   ]
  },
  {
   "cell_type": "code",
   "execution_count": 12,
   "metadata": {},
   "outputs": [
    {
     "name": "stdout",
     "output_type": "stream",
     "text": [
      "38997.50000\n"
     ]
    }
   ],
   "source": [
    "def openMarketLong(Symbol,Quantity):\n",
    "    while(True):\n",
    "        try:\n",
    "            client.futures_create_order(symbol=Symbol, side=\"BUY\", type=\"MARKET\",quantity=Quantity,positionSide=\"LONG\")\n",
    "            break\n",
    "        except Exception as e :\n",
    "            print(f\"{Symbol} open market long error ! {e}\")\n",
    "            time.sleep(1)\n",
    "\n",
    "currentPrice = getCurrentPrice(\"BTCUSDT\")\n",
    "precision = getPrecision(\"BTCUSDT\")\n",
    "leverage = 15\n",
    "qtyDollar = 14\n",
    "quantity = round((qtyDollar/currentPrice*leverage),precision)\n",
    "\n",
    "openMarketLong(\"BTCUSDT\",quantity)\n"
   ]
  },
  {
   "cell_type": "markdown",
   "metadata": {},
   "source": [
    "### Uzun market tipi pozisyonu kapatmak"
   ]
  },
  {
   "cell_type": "code",
   "execution_count": 25,
   "metadata": {},
   "outputs": [
    {
     "name": "stdout",
     "output_type": "stream",
     "text": [
      "0.005\n"
     ]
    }
   ],
   "source": [
    "def getPositionQuantityLong(Symbol):\n",
    "    while(True):\n",
    "        try:\n",
    "            orders = client.futures_position_information(symbol=Symbol)\n",
    "            order = orders[1]\n",
    "            quantity = order.get(\"positionAmt\")\n",
    "            quantity= float(quantity)\n",
    "            return quantity\n",
    "        except Exception as e:\n",
    "            print(f\"{Symbol} get quantity error ! {e}\")\n",
    "            time.sleep(1)\n",
    "\n",
    "print(getPositionQuantityLong(\"BTCUSDT\"))\n",
    "\n",
    "\n",
    "def closeMarketLong(Symbol,precision):\n",
    "    while(True):\n",
    "        try:\n",
    "            quantity = round(getPositionQuantityLong(Symbol),precision)\n",
    "            client.futures_create_order(symbol=Symbol, side=\"SELL\", type=\"MARKET\", quantity=quantity, positionSide=\"LONG\")\n",
    "            break\n",
    "        except Exception as e :\n",
    "            print(f\"{Symbol} closeLong error ! {e}\")\n",
    "            time.sleep(1)\n",
    "\n",
    "precision = getPrecision(\"BTCUSDT\")\n",
    "closeMarketLong(\"BTCUSDT\",precision)"
   ]
  },
  {
   "cell_type": "markdown",
   "metadata": {},
   "source": [
    "### Kısa market tipi pozisyon açmak"
   ]
  },
  {
   "cell_type": "code",
   "execution_count": 30,
   "metadata": {},
   "outputs": [],
   "source": [
    "def openMarketShort(Symbol,Quantity):\n",
    "    while(True):\n",
    "        try:\n",
    "            client.futures_create_order(symbol=Symbol, side=\"SELL\", type=\"MARKET\", quantity=Quantity, positionSide=\"SHoRT\")\n",
    "            break\n",
    "        except Exception as e:\n",
    "            print(f\"{Symbol} open market short error ! {e}\")\n",
    "            time.sleep(1)\n",
    "\n",
    "currentPrice = getCurrentPrice(\"BTCUSDT\") # Anlik fiyat\n",
    "precision = getPrecision(\"BTCUSDT\") # Futures basamak sayisi\n",
    "leverage= 15\n",
    "qtyDollar = 10\n",
    "quantity = round((qtyDollar/currentPrice*leverage),precision)\n",
    "\n",
    "openMarketShort(\"BTCUSDT\",quantity)"
   ]
  },
  {
   "cell_type": "markdown",
   "metadata": {},
   "source": [
    "### Kısa market tipi pozisyon kapatmak"
   ]
  },
  {
   "cell_type": "code",
   "execution_count": 34,
   "metadata": {},
   "outputs": [
    {
     "name": "stdout",
     "output_type": "stream",
     "text": [
      "0.004\n"
     ]
    }
   ],
   "source": [
    "def getPositionQuantityShort(Symbol):\n",
    "    while(True):\n",
    "        try:\n",
    "            orders = client.futures_position_information(symbol=Symbol)\n",
    "            order = orders[::-1][0]\n",
    "            quantity = order.get(\"positionAmt\")\n",
    "            quantity = float(quantity[1:])\n",
    "            return quantity\n",
    "        except Exception as e:\n",
    "            print(f\"{Symbol} get quantity error ! {e}\")\n",
    "            time.sleep(1)\n",
    "\n",
    "print(getPositionQuantityShort(\"BTCUSDT\"))\n",
    "\n",
    "\n",
    "def closeMarketShort(Symbol,precision):\n",
    "    while(True):\n",
    "        try:\n",
    "            quantity = round(getPositionQuantityShort(Symbol),precision)\n",
    "            client.futures_create_order(symbol=Symbol, side=\"BUY\", type=\"MARKET\", quantity=quantity, positionSide=\"SHORT\")\n",
    "            break\n",
    "        except Exception as e :\n",
    "            print(f\"{Symbol} closeShort error ! {e}\")\n",
    "            time.sleep(1)\n",
    "\n",
    "precision = getPrecision(\"BTCUSDT\")\n",
    "closeMarketShort(\"BTCUSDT\",precision)"
   ]
  },
  {
   "cell_type": "markdown",
   "metadata": {},
   "source": [
    "### Uzun limit emri vermek"
   ]
  },
  {
   "cell_type": "code",
   "execution_count": 36,
   "metadata": {},
   "outputs": [],
   "source": [
    "def openLimitLong(Symbol,Quantity,Price):\n",
    "    while(True):\n",
    "        try:\n",
    "            client.futures_create_order(symbol=Symbol, side=\"BUY\", type=\"LIMIT\", quantity=Quantity, positionSide=\"LONG\",price=Price,timeInForce=\"GTC\")\n",
    "            break\n",
    "        except Exception as e :\n",
    "            print(f\"{Symbol} open limit long error ! {e}\")\n",
    "            time.sleep(1)\n",
    "\n",
    "currentPrice = getCurrentPrice(\"BTCUSDT\")\n",
    "precision = getPrecision(\"BTCUSDT\")\n",
    "leverage = 15\n",
    "qtyDollar = 10\n",
    "quantity = round((qtyDollar/currentPrice*leverage),precision)\n",
    "\n",
    "openLimitLong(\"BTCUSDT\",quantity,\"39940\")"
   ]
  },
  {
   "cell_type": "markdown",
   "metadata": {},
   "source": [
    "### Kısa limit emri vermek"
   ]
  },
  {
   "cell_type": "code",
   "execution_count": 37,
   "metadata": {},
   "outputs": [],
   "source": [
    "def openLimitShort(Symbol,Quantity,Price):\n",
    "    while(True):\n",
    "        try:\n",
    "            client.futures_create_order(symbol=Symbol, side=\"SELL\", type=\"LIMIT\", quantity=Quantity, positionSide=\"SHORT\",price=Price,timeInForce=\"GTC\")\n",
    "            break\n",
    "        except Exception as e :\n",
    "            print(f\"{Symbol} open limit short error ! {e}\")\n",
    "            time.sleep(1)\n",
    "\n",
    "currentPrice = getCurrentPrice(\"BTCUSDT\")\n",
    "precision = getPrecision(\"BTCUSDT\")\n",
    "leverage = 15\n",
    "qtyDollar = 10\n",
    "quantity = round((qtyDollar/currentPrice*leverage),precision)\n",
    "\n",
    "openLimitShort(\"BTCUSDT\",quantity,\"40810\")"
   ]
  },
  {
   "cell_type": "markdown",
   "metadata": {},
   "source": [
    "### Açık emri iptal etmek"
   ]
  },
  {
   "cell_type": "code",
   "execution_count": 44,
   "metadata": {},
   "outputs": [
    {
     "name": "stdout",
     "output_type": "stream",
     "text": [
      "order ID: 51549065630\n"
     ]
    }
   ],
   "source": [
    "# Get order ID\n",
    "def getOpenOrderID(Symbol):\n",
    "    while(True):\n",
    "        try:\n",
    "            openOrders = client.futures_get_open_orders(symbol = Symbol)\n",
    "            orderID = openOrders[0][\"orderId\"]\n",
    "            return orderID\n",
    "        except Exception as e :\n",
    "            print(f\"get open order error ! {e}\")\n",
    "\n",
    "\n",
    "orderID = getOpenOrderID(\"BTCUSDT\")\n",
    "print(f\"order ID: {orderID}\")\n",
    "\n",
    "def cancelOrderById(Symbol,orderID):\n",
    "    while(True):\n",
    "        try:\n",
    "            client.futures_cancel_order(symbol=Symbol,orderId=orderID)\n",
    "            break\n",
    "        except Exception as e:\n",
    "            print(f\"cancel order error ! {e}\") \n",
    "            time.sleep(1)\n",
    "\n",
    "\n",
    "cancelOrderById(\"BTCUSDT\",orderID)\n",
    "\n"
   ]
  }
 ],
 "metadata": {
  "interpreter": {
   "hash": "2be5faf79681da6f2a61fdfdd5405d65d042280f7fba6178067603e3a2925119"
  },
  "kernelspec": {
   "display_name": "Python 3.10.2 64-bit",
   "language": "python",
   "name": "python3"
  },
  "language_info": {
   "codemirror_mode": {
    "name": "ipython",
    "version": 3
   },
   "file_extension": ".py",
   "mimetype": "text/x-python",
   "name": "python",
   "nbconvert_exporter": "python",
   "pygments_lexer": "ipython3",
   "version": "3.10.2"
  },
  "orig_nbformat": 4
 },
 "nbformat": 4,
 "nbformat_minor": 2
}
